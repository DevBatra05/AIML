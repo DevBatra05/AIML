{
  "nbformat": 4,
  "nbformat_minor": 0,
  "metadata": {
    "colab": {
      "provenance": [],
      "authorship_tag": "ABX9TyPSv6dEXilvwfaCUc/VpAIU",
      "include_colab_link": true
    },
    "kernelspec": {
      "name": "python3",
      "display_name": "Python 3"
    },
    "language_info": {
      "name": "python"
    }
  },
  "cells": [
    {
      "cell_type": "markdown",
      "metadata": {
        "id": "view-in-github",
        "colab_type": "text"
      },
      "source": [
        "<a href=\"https://colab.research.google.com/github/DevBatra05/AIML/blob/main/Lab_7.ipynb\" target=\"_parent\"><img src=\"https://colab.research.google.com/assets/colab-badge.svg\" alt=\"Open In Colab\"/></a>"
      ]
    },
    {
      "cell_type": "markdown",
      "source": [
        "Implement decision tree using a suitable example in google colab"
      ],
      "metadata": {
        "id": "z-JhWMGwZ_x6"
      }
    },
    {
      "cell_type": "code",
      "execution_count": 3,
      "metadata": {
        "id": "LDUrYIWAWJ4g"
      },
      "outputs": [],
      "source": [
        "#importing necessary libraries\n",
        "import numpy as np\n",
        "#imports the numpy library, which is used for numerical operations in python\n",
        "#here, it is mainly used to generate synthetic data\n",
        "import pandas as pd\n",
        "# Imports the pandas library, which is-useful for data manipulation and analysis.\n",
        "# In this code, it helps store and manipulate data in a Dataframe format.\n",
        "from sklearn.model_selection import train_test_split\n",
        "#Imports the train_test_split function from sklearn, a machine learning library.\n",
        "# This function splits the data into training and testing sets.\n",
        "from sklearn.tree import DecisionTreeClassifier\n",
        "# Imports the DecisionTreeClassifier from sklearn, which is used to create and train a decision tree classifier.\n",
        "from sklearn import metrics\n",
        "# Imports the metrics module from sklearn, which contains tools to evaluate machine learning models.\n",
        "# Here, it will help compute the model's accuracy.\n",
        "import matplotlib.pyplot as plt\n",
        "#Imports matplotlib-pyplot for data visualization. It's used here to plot the decision tree\n",
        "from sklearn.tree import plot_tree\n",
        "# Imports the plot_tree function, which visualizes the decision tree structure.\n"
      ]
    },
    {
      "cell_type": "code",
      "source": [
        "# Step 1: Generate a synthetic dataset\n",
        "# Let's create a dataset with two features and a binary target\n",
        "np.random.seed(42) # For reproducibility\n",
        "# Sets the random seed to 42 for reproducibility. This means that every time the code is run,\n",
        "#the generated data will be the same, which is helpful for consistent results.\n",
        "\n",
        "#Generating 100 samples for each class\n",
        "feature_1_class_0 = np.random.normal(2, 1, 100) # Feature 1 for class 0\n",
        "#Generates 100 values from a normal distribution centered at 2, with a standard deviation of 1,\n",
        "# representing Feature_1 for samples in class 0.\n",
        "\n",
        "feature_2_class_0 = np.random.normal(3, 1, 100) # Feature 2 for class 0\n",
        "# Similar to feature_1_class_0, but the values are centered at 3.\n",
        "# This represents Feature 2 for samples in class 0.\n",
        "\n",
        "feature_1_class_1 = np.random.normal(6, 1, 100) # Feature 1 for class 1\n",
        "# Generates 100 values for Feature_1 of sample in class1, centered at 6 with a standard deviation of 1.\n",
        "\n",
        "feature_2_class_1 = np.random.normal(5, 1, 100) # Feature 2 for class 1\n",
        "# Generates 100 values for Feature_2 of sample in class1, centered at 5 with a standard devaition of 1.\n",
        "\n",
        "# Combine features and labels\n",
        "features_class_0 = np.column_stack((feature_1_class_0, feature_2_class_0))\n",
        "# Combines feature_1_class_0 and feature 2 class 0 into a single array of shape (180, 2),\n",
        "# where each row represents a data point in class 0.\n",
        "features_class_1 = np. column_stack((feature_1_class_1, feature_2_class_1))\n",
        "# Combines feature_1_class _1 and featurg,2-class_1 into a single array of shape (180, 2),\n",
        "# representing data points in class 1.\n",
        "\n",
        "# Labels for the classes\n",
        "labels_class_0 = np.zeros(100)\n",
        "# Creates an array of zeros with 100 elements, representing the label 0 for class 0.\n",
        "\n",
        "labels_class_1 = np.ones(100)\n",
        "#Creates an array of ones with 100 elements, representing the label 1 for class 1.\n",
        "\n",
        "# Concatenate to form a dataset\n",
        "features = np.vstack((features_class_0, features_class_1))\n",
        "# Vertically stacks features_class_0 and features_class_1 into a single array of shape (280, 2),\n",
        "# representing all feature data.\n",
        "labels = np. concatenate((labels_class_0, labels_class_1))\n",
        "#Concatenates labels_class_0 and labels_class _1 into a single array with 200 elements,\n",
        "#\n",
        "\n",
        "# Convert to a pandas Dataframe for easier manipulation\n",
        "data = pd.Dataframe(features, columns=[\"feature_1\", \"feature_2\"])\n",
        "data[\"Target\"] = labels\n",
        "# Creates a Datafrane with the features and labels, where Feature 1 and Feature 2 are columns for the\n",
        "# feature values, and Target is the column for the labels (0 or 1). This makes the data easier to handle\n",
        "# and visualize.\n",
        "# Step 2: Split the dataset into traiming and testing sets\n",
        "X = data[[\"feature_1\", \"feature _2\"]] # Features\n",
        "# X: Selects Feature 1 and Feature 2 columns from data as the features.\n",
        "y = data [\"Target\"]\n",
        "# Target variable\n",
        "# y: Selects the Target column from data as the target variable for classification.\n",
        "\n",
        "X_train, X_test, y_train, y_test = train_test_split(X, y, test_size=0.3, random_state=42)\n",
        "\n",
        "\n",
        "clf = DecisionTreeClassifier(max_depth=3, random_state=42)\n",
        "\n",
        "clf.fit(X_train, y_train)\n",
        "\n",
        "y_pred = clf.predict(X_test)\n",
        "\n",
        "accuracy = metrics.accuracy_score(y_test, y_pred)\n",
        "\n",
        "\n",
        "print(f\"Accuracy:,{accuracy:.2f}\")\n",
        "\n",
        "plt.figure(figsize=(12, 8))\n",
        "plot_tree(clf, feature_names=[\"feature_1\", \"feature_2\"], class_names=[\"Class_0\", \"Class_1\"], filled=True)\n",
        "plt.title(\"Decision Tree Visualization\")\n",
        "plt.show()\n",
        "\n"
      ],
      "metadata": {
        "colab": {
          "base_uri": "https://localhost:8080/",
          "height": 222
        },
        "id": "ETyuvMfYaRFa",
        "outputId": "78e1520b-63aa-449d-ee42-37b775c73c18"
      },
      "execution_count": 7,
      "outputs": [
        {
          "output_type": "error",
          "ename": "AttributeError",
          "evalue": "module 'pandas' has no attribute 'Dataframe'",
          "traceback": [
            "\u001b[0;31m---------------------------------------------------------------------------\u001b[0m",
            "\u001b[0;31mAttributeError\u001b[0m                            Traceback (most recent call last)",
            "\u001b[0;32m<ipython-input-7-5ec4d51d9b33>\u001b[0m in \u001b[0;36m<cell line: 46>\u001b[0;34m()\u001b[0m\n\u001b[1;32m     44\u001b[0m \u001b[0;34m\u001b[0m\u001b[0m\n\u001b[1;32m     45\u001b[0m \u001b[0;31m# Convert to a pandas Dataframe for easier manipulation\u001b[0m\u001b[0;34m\u001b[0m\u001b[0;34m\u001b[0m\u001b[0m\n\u001b[0;32m---> 46\u001b[0;31m \u001b[0mdata\u001b[0m \u001b[0;34m=\u001b[0m \u001b[0mpd\u001b[0m\u001b[0;34m.\u001b[0m\u001b[0mDataframe\u001b[0m\u001b[0;34m(\u001b[0m\u001b[0mfeatures\u001b[0m\u001b[0;34m,\u001b[0m \u001b[0mcolumns\u001b[0m\u001b[0;34m=\u001b[0m\u001b[0;34m[\u001b[0m\u001b[0;34m\"feature_1\"\u001b[0m\u001b[0;34m,\u001b[0m \u001b[0;34m\"feature_2\"\u001b[0m\u001b[0;34m]\u001b[0m\u001b[0;34m)\u001b[0m\u001b[0;34m\u001b[0m\u001b[0;34m\u001b[0m\u001b[0m\n\u001b[0m\u001b[1;32m     47\u001b[0m \u001b[0mdata\u001b[0m\u001b[0;34m[\u001b[0m\u001b[0;34m\"Target\"\u001b[0m\u001b[0;34m]\u001b[0m \u001b[0;34m=\u001b[0m \u001b[0mlabels\u001b[0m\u001b[0;34m\u001b[0m\u001b[0;34m\u001b[0m\u001b[0m\n\u001b[1;32m     48\u001b[0m \u001b[0;31m# Creates a Datafrane with the features and labels, where Feature 1 and Feature 2 are columns for the\u001b[0m\u001b[0;34m\u001b[0m\u001b[0;34m\u001b[0m\u001b[0m\n",
            "\u001b[0;31mAttributeError\u001b[0m: module 'pandas' has no attribute 'Dataframe'"
          ]
        }
      ]
    },
    {
      "cell_type": "code",
      "source": [],
      "metadata": {
        "id": "NoqY6UfIco4M"
      },
      "execution_count": null,
      "outputs": []
    }
  ]
}